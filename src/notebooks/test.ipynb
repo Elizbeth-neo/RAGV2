{
 "cells": [
  {
   "cell_type": "code",
   "execution_count": 2,
   "outputs": [],
   "source": [
    "from langchain_community.embeddings import HuggingFaceBgeEmbeddings\n",
    "from pprint import pprint\n",
    "from pinecone import Pinecone\n",
    "import os\n",
    "import re\n",
    "import json\n",
    "from langchain.text_splitter import RecursiveCharacterTextSplitter\n",
    "from langchain_community.document_loaders import WebBaseLoader\n",
    "from langchain_community.vectorstores import Chroma\n",
    "from langchain_openai import OpenAIEmbeddings\n",
    "from langchain import hub\n",
    "from langchain_core.output_parsers import StrOutputParser\n",
    "from langchain_core.prompts import ChatPromptTemplate\n",
    "from langchain_openai import ChatOpenAI\n",
    "from langchain.tools import Tool\n",
    "from langchain_community.tools.tavily_search import TavilySearchResults\n",
    "from langchain.vectorstores import Pinecone as PL\n",
    "\n",
    "from pydantic import BaseModel, Field\n",
    "from langgraph.prebuilt import tools_condition\n",
    "from langchain.schema import Document\n",
    "from langgraph.checkpoint.memory import MemorySaver\n",
    "from langgraph.graph import END, START, StateGraph\n",
    "from langgraph.prebuilt import ToolNode\n",
    "\n",
    "from typing import List\n",
    "from typing_extensions import TypedDict\n",
    "\n",
    "from dotenv import load_dotenv\n",
    "load_dotenv()\n",
    "\n",
    "os.environ[\"USER_AGENT\"] = os.getenv(\"USER_AGENT\")"
   ],
   "metadata": {
    "collapsed": false,
    "ExecuteTime": {
     "start_time": "2024-10-04T11:38:35.440682Z",
     "end_time": "2024-10-04T11:38:35.445167Z"
    }
   }
  },
  {
   "cell_type": "code",
   "execution_count": 3,
   "outputs": [],
   "source": [
    "model_name = \"BAAI/bge-m3\"\n",
    "\n",
    "embedding_function = HuggingFaceBgeEmbeddings(\n",
    "    model_name=model_name,\n",
    "    model_kwargs={'device': 'cuda'},\n",
    "    encode_kwargs={'normalize_embeddings': True}\n",
    ")\n",
    "\n",
    "urls = [\n",
    "    \"https://en.wikipedia.org/wiki/Computer_vision\",\n",
    "    \"https://viso.ai/computer-vision/what-is-computer-vision/\",\n",
    "    \"https://blog.theos.ai/articles/introduction-to-computer-vision#:~:text=Computer%20vision%20is%20composed%20of,and%20text%20to%20image%20generation\",\n",
    "    \"https://www.geeksforgeeks.org/computer-vision-tasks/\",\n",
    "    \"https://www.geeksforgeeks.org/introduction-convolution-neural-network/\",\n",
    "    \"https://www.educative.io/answers/how-does-cnn-work-in-computer-vision-tasks\"\n",
    "]\n",
    "\n",
    "docs = [WebBaseLoader(url).load() for url in urls]\n",
    "docs_list = [item for sublist in docs for item in sublist]\n",
    "\n",
    "# Split\n",
    "text_splitter = RecursiveCharacterTextSplitter.from_tiktoken_encoder(\n",
    "    chunk_size=500, chunk_overlap=0\n",
    ")\n",
    "doc_splits = text_splitter.split_documents(docs_list)\n",
    "\n",
    "vectorstore = Chroma.from_documents(\n",
    "    documents=doc_splits,\n",
    "    collection_name=\"rag-chroma\",\n",
    "    embedding=embedding_function,\n",
    ")\n",
    "retriever = vectorstore.as_retriever()"
   ],
   "metadata": {
    "collapsed": false,
    "ExecuteTime": {
     "start_time": "2024-10-04T11:38:57.553488Z",
     "end_time": "2024-10-04T11:39:22.721505Z"
    }
   }
  },
  {
   "cell_type": "code",
   "execution_count": 12,
   "outputs": [
    {
     "name": "stdout",
     "output_type": "stream",
     "text": [
      "AIMessage(content='', additional_kwargs={'tool_calls': [{'id': 'call_h9i0cpus', 'function': {'arguments': '{\"__arg1\":\"CNN in CV\"}', 'name': 'retriever'}, 'type': 'function'}], 'refusal': None}, response_metadata={'token_usage': {'completion_tokens': 22, 'prompt_tokens': 252, 'total_tokens': 274, 'completion_tokens_details': None}, 'model_name': 'llama3.1', 'system_fingerprint': 'fp_ollama', 'finish_reason': 'tool_calls', 'logprobs': None}, id='run-09552ded-b1b9-48b4-97d0-4e32f7685c7b-0', tool_calls=[{'name': 'retriever', 'args': {'__arg1': 'CNN in CV'}, 'id': 'call_h9i0cpus', 'type': 'tool_call'}], usage_metadata={'input_tokens': 252, 'output_tokens': 22, 'total_tokens': 274})\n",
      "\n",
      "AIMessage(content='', additional_kwargs={'tool_calls': [{'id': 'call_tft5pabu', 'function': {'arguments': '{\"__arg1\":\"Who was the first man on the moon?\"}', 'name': 'web_search'}, 'type': 'function'}], 'refusal': None}, response_metadata={'token_usage': {'completion_tokens': 27, 'prompt_tokens': 254, 'total_tokens': 281, 'completion_tokens_details': None}, 'model_name': 'llama3.1', 'system_fingerprint': 'fp_ollama', 'finish_reason': 'tool_calls', 'logprobs': None}, id='run-9a981183-c8db-4cbc-bbeb-f26fc5a134c8-0', tool_calls=[{'name': 'web_search', 'args': {'__arg1': 'Who was the first man on the moon?'}, 'id': 'call_tft5pabu', 'type': 'tool_call'}], usage_metadata={'input_tokens': 254, 'output_tokens': 27, 'total_tokens': 281})\n",
      "AIMessage(content='', additional_kwargs={'tool_calls': [{'id': 'call_pevwig78', 'function': {'arguments': '{\"__arg1\":\"CNN in CV\"}', 'name': 'retriever'}, 'type': 'function'}], 'refusal': None}, response_metadata={'token_usage': {'completion_tokens': 22, 'prompt_tokens': 252, 'total_tokens': 274, 'completion_tokens_details': None}, 'model_name': 'llama3.1', 'system_fingerprint': 'fp_ollama', 'finish_reason': 'tool_calls', 'logprobs': None}, id='run-f39930c9-4435-47fc-b631-6ea815224573-0', tool_calls=[{'name': 'retriever', 'args': {'__arg1': 'CNN in CV'}, 'id': 'call_pevwig78', 'type': 'tool_call'}], usage_metadata={'input_tokens': 252, 'output_tokens': 22, 'total_tokens': 274})\n",
      "\n",
      "\n",
      "AIMessage(content='', additional_kwargs={'tool_calls': [{'id': 'call_n69hco6e', 'function': {'arguments': '{\"__arg1\":\"Who was the first man on the moon?\"}', 'name': 'web_search'}, 'type': 'function'}], 'refusal': None}, response_metadata={'token_usage': {'completion_tokens': 27, 'prompt_tokens': 254, 'total_tokens': 281, 'completion_tokens_details': None}, 'model_name': 'llama3.1', 'system_fingerprint': 'fp_ollama', 'finish_reason': 'tool_calls', 'logprobs': None}, id='run-b86d7bb1-f9e4-4aff-87fe-449782440f03-0', tool_calls=[{'name': 'web_search', 'args': {'__arg1': 'Who was the first man on the moon?'}, 'id': 'call_n69hco6e', 'type': 'tool_call'}], usage_metadata={'input_tokens': 254, 'output_tokens': 27, 'total_tokens': 281})\n"
     ]
    }
   ],
   "source": [
    "def run_retriever(input_text):\n",
    "    return retriever.invoke(input_text, k=3)\n",
    "\n",
    "retriever_tool = Tool(\n",
    "    name=\"retriever\",\n",
    "    func=run_retriever,\n",
    "    description=\"Perform a retriever search to get information \"\n",
    "                \"based on the query about Computer Vision(CV) \"\n",
    "                \"and Convolution Neural Networks(CNN)\"\n",
    ")\n",
    "\n",
    "web_search_tool = TavilySearchResults(k=3, tavily_api_key=os.getenv(\"TAVILY_API_KEY\"))\n",
    "web_search_tool = Tool(\n",
    "    name=\"web_search\",\n",
    "    func=web_search_tool.run,\n",
    "    description=\"Perform a web search to look for any questions that is \"\n",
    "                \"unrelated to Computer Vision(CV) \"\n",
    "                \"and Convolution Neural Networks(CNN)\"\n",
    ")\n",
    "\n",
    "tools = [retriever_tool, web_search_tool]\n",
    "model = ChatOpenAI(model='llama3.1', api_key='ollama', base_url='http://localhost:11434/v1/', temperature=0)\n",
    "model_with_tools = model.bind_tools(tools)\n",
    "\n",
    "# Run\n",
    "question = \"What is the CNN in CV?\"\n",
    "tool_result = model_with_tools.invoke(question)\n",
    "pprint(tool_result)\n",
    "print('\\n')\n",
    "question = \"Who was the first man on the moon?\"\n",
    "tool_result = model_with_tools.invoke(question)\n",
    "pprint(tool_result)"
   ],
   "metadata": {
    "collapsed": false,
    "ExecuteTime": {
     "start_time": "2024-10-04T11:45:15.840379Z",
     "end_time": "2024-10-04T11:45:34.492507Z"
    }
   }
  },
  {
   "cell_type": "code",
   "execution_count": 15,
   "outputs": [
    {
     "name": "stdout",
     "output_type": "stream",
     "text": [
      "binary_score='yes'\n"
     ]
    }
   ],
   "source": [
    "### Retrieval Grader\n",
    "class GradeDocuments(BaseModel):\n",
    "    \"\"\"Binary score for relevance check on retrieved documents.\"\"\"\n",
    "\n",
    "    binary_score: str = Field(\n",
    "        description=\"Documents are relevant to the question, 'yes' or 'no'\"\n",
    "    )\n",
    "# Prompt\n",
    "system = \"\"\"You are a grader assessing relevance of a retrieved document to a user question. \\n\n",
    "    If the document contains keyword(s) or semantic meaning related to the user question, grade it as relevant. \\n\n",
    "    It does not need to be a stringent test. The goal is to filter out erroneous retrievals. \\n\n",
    "    Give a binary score 'yes' or 'no' score to indicate whether the document is relevant to the question.\"\"\"\n",
    "grade_prompt = ChatPromptTemplate.from_messages(\n",
    "    [\n",
    "        (\"system\", system),\n",
    "        (\"human\", \"Retrieved document: \\n\\n {document} \\n\\n User question: {question}\"),\n",
    "    ]\n",
    ")\n",
    "\n",
    "# LLM\n",
    "llm = ChatOpenAI(model='llama3.1', api_key='ollama', base_url='http://localhost:11434/v1/', temperature=0)\n",
    "structured_llm_grader = llm.with_structured_output(GradeDocuments)\n",
    "\n",
    "# Chain\n",
    "retrieval_grader = grade_prompt | structured_llm_grader\n",
    "\n",
    "#Run\n",
    "tool_name = tool_result.additional_kwargs.get('tool_calls')[0]['function']['name']\n",
    "if tool_name =='retriever':\n",
    "    docs = retriever.invoke(question)\n",
    "    doc_txt = docs[0].page_content\n",
    "    print(retrieval_grader.invoke({\"question\": question, \"document\": doc_txt}))\n",
    "else:\n",
    "    docs = web_search_tool.invoke(question)\n",
    "    doc_txt = docs[0]['content']\n",
    "    print(retrieval_grader.invoke({\"question\": question, \"document\": doc_txt}))"
   ],
   "metadata": {
    "collapsed": false,
    "ExecuteTime": {
     "start_time": "2024-10-04T11:47:22.649345Z",
     "end_time": "2024-10-04T11:47:32.827489Z"
    }
   }
  },
  {
   "cell_type": "code",
   "execution_count": 14,
   "outputs": [
    {
     "name": "stdout",
     "output_type": "stream",
     "text": [
      "Neil Armstrong was the first man on the moon. He stepped onto the lunar surface on July 20, 1969, as part of the Apollo 11 mission. His famous words upon setting foot on the moon were \"That's one small step for [a] man, one giant leap for mankind.\"\n"
     ]
    }
   ],
   "source": [
    "### Generate\n",
    "\n",
    "# Prompt\n",
    "prompt = hub.pull(\"rlm/rag-prompt\")\n",
    "\n",
    "# LLM\n",
    "llm = ChatOpenAI(model='llama3.1', api_key='ollama', base_url='http://localhost:11434/v1/', temperature=0)\n",
    "\n",
    "# Post-processing\n",
    "def format_docs(docs):\n",
    "    return \"\\n\\n\".join(doc.page_content for doc in docs)\n",
    "\n",
    "# Chain\n",
    "rag_chain = prompt | llm | StrOutputParser()\n",
    "\n",
    "#Run\n",
    "if tool_name =='retriever':\n",
    "    generation = rag_chain.invoke({\"context\": format_docs(docs), \"question\": question})\n",
    "else:\n",
    "    generation = rag_chain.invoke({\"context\": docs, \"question\": question})\n",
    "\n",
    "print(generation)"
   ],
   "metadata": {
    "collapsed": false,
    "ExecuteTime": {
     "start_time": "2024-10-04T11:46:57.107737Z",
     "end_time": "2024-10-04T11:47:22.646613Z"
    }
   }
  },
  {
   "cell_type": "code",
   "execution_count": 16,
   "outputs": [
    {
     "name": "stdout",
     "output_type": "stream",
     "text": [
      "binary_score='yes'\n"
     ]
    }
   ],
   "source": [
    "### Hallucination Grader\n",
    "\n",
    "# Data model\n",
    "class GradeHallucinations(BaseModel):\n",
    "    \"\"\"Binary score for hallucination present in generation answer.\"\"\"\n",
    "\n",
    "    binary_score: str = Field(\n",
    "        description=\"Answer is grounded in the facts, 'yes' or 'no'\"\n",
    "    )\n",
    "\n",
    "# Prompt\n",
    "system = \"\"\"You are a grader assessing whether an LLM generation is grounded in / supported by some of retrieved facts. \\n\n",
    "     Give a binary score 'yes' or 'no'. 'yes' means that the answer is grounded in / supported by the set of facts. 'no' means absolutely wrong generation\"\"\"\n",
    "\n",
    "hallucination_prompt = ChatPromptTemplate.from_messages(\n",
    "    [\n",
    "        (\"system\", system),\n",
    "        (\"human\", \"Set of facts: \\n\\n {documents} \\n\\n LLM generation: {generation}\"),\n",
    "    ]\n",
    ")\n",
    "\n",
    "# LLM\n",
    "llm = ChatOpenAI(model='llama3.1', api_key='ollama', base_url='http://localhost:11434/v1/', temperature=0)\n",
    "structured_llm_grader = llm.with_structured_output(GradeHallucinations)\n",
    "\n",
    "# Chain\n",
    "hallucination_grader = hallucination_prompt | structured_llm_grader\n",
    "\n",
    "#Run\n",
    "if tool_name =='retriever':\n",
    "    docs_splitted = [d.page_content for d in docs]\n",
    "else:\n",
    "    docs_splitted = [d['content'] for d in docs]\n",
    "\n",
    "print(hallucination_grader.invoke({\"documents\": docs_splitted, \"generation\": generation}))"
   ],
   "metadata": {
    "collapsed": false,
    "ExecuteTime": {
     "start_time": "2024-10-04T11:48:04.980601Z",
     "end_time": "2024-10-04T11:48:14.755105Z"
    }
   }
  },
  {
   "cell_type": "code",
   "execution_count": 17,
   "outputs": [
    {
     "data": {
      "text/plain": "GradeAnswer(binary_score='yes')"
     },
     "execution_count": 17,
     "metadata": {},
     "output_type": "execute_result"
    }
   ],
   "source": [
    "### Answer Grader\n",
    "\n",
    "# Data model\n",
    "class GradeAnswer(BaseModel):\n",
    "    \"\"\"Binary score to assess answer addresses question.\"\"\"\n",
    "\n",
    "    binary_score: str = Field(\n",
    "        description=\"Answer addresses the question, 'yes' or 'no'\"\n",
    "    )\n",
    "\n",
    "# Prompt\n",
    "system = \"\"\"You are a grader assessing whether an answer addresses / resolves a question \\n\n",
    "     Give a binary score 'yes' or 'no'. yes' means that the answer resolves the question.\"\"\"\n",
    "answer_prompt = ChatPromptTemplate.from_messages(\n",
    "    [\n",
    "        (\"system\", system),\n",
    "        (\"human\", \"User question: \\n\\n {question} \\n\\n LLM generation: {generation}\"),\n",
    "    ]\n",
    ")\n",
    "\n",
    "# LLM\n",
    "llm = ChatOpenAI(model='interstellarninja/hermes-2-pro-llama-3-8b-tools:latest', api_key='ollama', base_url='http://localhost:11434/v1/', temperature=0)\n",
    "structured_llm_grader = llm.with_structured_output(GradeAnswer)\n",
    "\n",
    "# Chain\n",
    "answer_grader = answer_prompt | structured_llm_grader\n",
    "\n",
    "# Run\n",
    "answer_score = answer_grader.invoke({\"question\": question, \"generation\": generation})\n",
    "print(answer_score)"
   ],
   "metadata": {
    "collapsed": false,
    "ExecuteTime": {
     "start_time": "2024-10-04T11:48:44.963894Z",
     "end_time": "2024-10-04T11:49:09.285201Z"
    }
   }
  },
  {
   "cell_type": "code",
   "execution_count": 18,
   "outputs": [
    {
     "data": {
      "text/plain": "'What astronaut achieved the first lunar landing?'"
     },
     "execution_count": 18,
     "metadata": {},
     "output_type": "execute_result"
    }
   ],
   "source": [
    "### Question Re-writer\n",
    "\n",
    "# Prompt\n",
    "system = \"\"\"You a question re-writer that converts an input question to a better version that is optimized \\n\n",
    "     for vectorstore retrieval. Look at the input and try to reason about the underlying semantic intent / meaning. Give strictly only the improved question without any additional words and thoughts from you.\"\"\"\n",
    "\n",
    "re_write_prompt = ChatPromptTemplate.from_messages(\n",
    "    [\n",
    "        (\"system\", system),\n",
    "        (\n",
    "            \"human\",\n",
    "            \"Here is the initial question: \\n\\n {question} \\n Formulate an improved question.\",\n",
    "        ),\n",
    "    ]\n",
    ")\n",
    "\n",
    "# LLM\n",
    "llm = ChatOpenAI(model='llama3.1', api_key='ollama', base_url='http://localhost:11434/v1/', temperature=0)\n",
    "\n",
    "# Chain\n",
    "question_rewriter = re_write_prompt | llm | StrOutputParser()\n",
    "\n",
    "# Run\n",
    "question_rewriter.invoke({\"question\": question})"
   ],
   "metadata": {
    "collapsed": false,
    "ExecuteTime": {
     "start_time": "2024-10-04T11:49:16.850875Z",
     "end_time": "2024-10-04T11:49:23.854759Z"
    }
   }
  },
  {
   "cell_type": "markdown",
   "source": [
    "Define Graph State"
   ],
   "metadata": {
    "collapsed": false
   }
  },
  {
   "cell_type": "code",
   "execution_count": 44,
   "outputs": [],
   "source": [
    "class ToolCall(TypedDict):\n",
    "    id: str\n",
    "    function: dict\n",
    "    type: str\n",
    "\n",
    "\n",
    "class GraphState(TypedDict):\n",
    "    question: str\n",
    "    generation: str\n",
    "    generation_id: int\n",
    "    docs_grade_id: int\n",
    "    tool_cals: List[ToolCall]\n",
    "    tool_name: str\n",
    "    messages: List[str]\n",
    "    chat_history: List[str]\n",
    "    documents: List[str]"
   ],
   "metadata": {
    "collapsed": false,
    "ExecuteTime": {
     "start_time": "2024-10-04T13:13:55.334727Z",
     "end_time": "2024-10-04T13:13:55.338237Z"
    }
   }
  },
  {
   "cell_type": "markdown",
   "source": [
    "Define Graph Flow"
   ],
   "metadata": {
    "collapsed": false
   }
  },
  {
   "cell_type": "code",
   "execution_count": 50,
   "outputs": [],
   "source": [
    "def transform_query(state):\n",
    "    \"\"\"\n",
    "    Transform the query to produce a better question.\n",
    "    \"\"\"\n",
    "    print(\"---TRANSFORM QUERY---\")\n",
    "\n",
    "    question = state[\"question\"]\n",
    "    documents = state[\"documents\"]\n",
    "    # Re-write question\n",
    "    better_question = question_rewriter.invoke({\"question\": question})\n",
    "\n",
    "    print(f'question: {question}')\n",
    "    print(f'\\n')\n",
    "    print(f'transformed question: {better_question}')\n",
    "    return {\"documents\": documents, \"question\": better_question}\n",
    "\n",
    "\n",
    "def decide_to_generate(state):\n",
    "    \"\"\"\n",
    "    Determines whether to generate an answer, or re-generate a question.\n",
    "    \"\"\"\n",
    "    print(\"---ASSESS GRADED DOCUMENTS---\")\n",
    "\n",
    "    filtered_documents = state[\"documents\"]\n",
    "    docs_grade_id = state[\"docs_grade_id\"]\n",
    "\n",
    "    if not filtered_documents:\n",
    "        if docs_grade_id <= 3:\n",
    "            print(\n",
    "                \"---DECISION: ALL DOCUMENTS ARE NOT RELEVANT TO QUESTION, TRANSFORM QUERY---\"\n",
    "            )\n",
    "            return \"transform_query\"\n",
    "        else:\n",
    "            # To avoid a possible endless loop\n",
    "            print(f\"~~~~~The generation limit has been reached~~~~~\")\n",
    "            return 'limit'\n",
    "    else:\n",
    "        print(\"---DECISION: GENERATE---\")\n",
    "        return \"generate\"\n",
    "\n",
    "\n",
    "def grade_generation_v_documents_and_question(state):\n",
    "    \"\"\"\n",
    "    Determines whether the generation is grounded in the document and answers question.\n",
    "    \"\"\"\n",
    "    print(\"---CHECK HALLUCINATIONS---\")\n",
    "\n",
    "    question = state[\"question\"]\n",
    "    documents = state[\"documents\"]\n",
    "    generation = state[\"generation\"]\n",
    "    generation_id = state[\"generation_id\"]\n",
    "    tool_name = state[\"tool_name\"]\n",
    "\n",
    "    if tool_name == \"retriever\":\n",
    "        docs_splitted = documents\n",
    "    else:\n",
    "        docs_splitted = [d.page_content for d in documents]\n",
    "\n",
    "    score = hallucination_grader.invoke(\n",
    "        {\"documents\": docs_splitted, \"generation\": generation}\n",
    "    )\n",
    "\n",
    "    # Check hallucinations\n",
    "    if score:\n",
    "        grade = score.binary_score\n",
    "        if grade == \"yes\":\n",
    "            print(\"---DECISION: GENERATION IS GROUNDED IN DOCUMENTS---\")\n",
    "            # Check question-answering\n",
    "            print(\"---GRADE GENERATION vs QUESTION---\")\n",
    "            score = answer_grader.invoke({\"question\": question, \"generation\": generation})\n",
    "            print(f'score: {score}')\n",
    "            if score:\n",
    "                grade = score.binary_score\n",
    "                if grade == \"yes\":\n",
    "                    print(\"---DECISION: GENERATION ADDRESSES QUESTION---\")\n",
    "                    return \"useful\"\n",
    "                else:\n",
    "                    print(\"---DECISION: GENERATION DOES NOT ADDRESS QUESTION---\")\n",
    "                    return \"not useful\"\n",
    "            # To avoid a possible endless loop\n",
    "            print(f\"~~~~~Failed answer grader~~~~~\")\n",
    "            return \"failed\"\n",
    "        else:\n",
    "            if generation_id <= 3:\n",
    "                print(\"---DECISION: GENERATION IS NOT GROUNDED IN DOCUMENTS, RE-TRY---\")\n",
    "                return \"not supported\"\n",
    "            else:\n",
    "                # To avoid a possible endless loop\n",
    "                print(f\"~~~~~The generation limit has been reached~~~~~\")\n",
    "                return \"limit\"\n",
    "    else:\n",
    "        # To avoid a possible endless loop\n",
    "        print(f\"~~~~~Failed hallucination grader~~~~~\")\n",
    "        return \"failed\"\n",
    "\n",
    "\n",
    "def generate(state):\n",
    "    \"\"\"\n",
    "    Generate answer\n",
    "    \"\"\"\n",
    "    print(\"---GENERATE---\")\n",
    "\n",
    "    question = state[\"question\"]\n",
    "    documents = state[\"documents\"]\n",
    "    chat_history = state[\"chat_history\"]\n",
    "\n",
    "    generation_id = state[\"generation_id\"]\n",
    "    generation_id += 1\n",
    "    print(f'---> generate iteration:{generation_id}')\n",
    "\n",
    "    # RAG generation\n",
    "    generation = rag_chain.invoke({\"context\": documents, \"question\": question})\n",
    "    chat_history.append([{\n",
    "        \"generation_id\" : generation_id,\n",
    "        \"user_question\" : question,\n",
    "        \"ai_answer\" : generation\n",
    "    }])\n",
    "    return {\"documents\": documents, \"question\": question, \"generation\": generation, \"generation_id\": generation_id, \"chat_history\": chat_history}\n",
    "\n",
    "\n",
    "def grade_documents(state):\n",
    "    \"\"\"\n",
    "    Determines whether the retrieved documents are relevant to the question.\n",
    "    \"\"\"\n",
    "    print(\"---CHECK DOCUMENT RELEVANCE TO QUESTION---\")\n",
    "\n",
    "    question = state[\"question\"]\n",
    "    messages = state['messages']\n",
    "    tool_name = state['tool_name']\n",
    "    docs_grade_id = state[\"docs_grade_id\"]\n",
    "    docs_grade_id +=1\n",
    "    print(f'---> grade_documents iteration: {docs_grade_id}')\n",
    "\n",
    "    if tool_name =='retriever':\n",
    "        docs = messages[-1].content\n",
    "        doc_strings = re.findall(r'Document\\(metadata=(.+?), page_content=(.+?)\\)', docs)\n",
    "        documents = []\n",
    "        for metadata_str, page_content_str in doc_strings:\n",
    "            metadata = eval(metadata_str)\n",
    "            page_content = page_content_str.strip(\"'\")\n",
    "            doc = Document(page_content=page_content, metadata=metadata)\n",
    "            documents.append(doc)\n",
    "    else:\n",
    "        tool_message_content = messages[-1].content\n",
    "        parsed_content = json.loads(tool_message_content)\n",
    "        documents = [Document(page_content=item[\"content\"], metadata={\"source\": item[\"url\"]}) for item in parsed_content]\n",
    "\n",
    "    # Score each doc\n",
    "    filtered_docs = []\n",
    "    for d in documents:\n",
    "        score = retrieval_grader.invoke(\n",
    "            {\"question\": question, \"document\": d.page_content}\n",
    "        )\n",
    "        grade = score.binary_score\n",
    "        if grade == \"yes\":\n",
    "            print(\"---GRADE: DOCUMENT RELEVANT---\")\n",
    "            filtered_docs.append(d)\n",
    "        else:\n",
    "            print(\"---GRADE: DOCUMENT NOT RELEVANT---\")\n",
    "            continue\n",
    "    return {\"documents\": filtered_docs, \"question\": question, \"docs_grade_id\":docs_grade_id}"
   ],
   "metadata": {
    "collapsed": false,
    "ExecuteTime": {
     "start_time": "2024-10-04T13:19:56.111395Z",
     "end_time": "2024-10-04T13:19:56.147609Z"
    }
   }
  },
  {
   "cell_type": "code",
   "execution_count": 51,
   "outputs": [],
   "source": [
    "# Agent\n",
    "def agent(state):\n",
    "    \"\"\"\n",
    "    Invokes the agent model to generate a response based on the current state. Given\n",
    "    the question, it will decide to retrieve using the retriever tool, or simply end.\n",
    "    \"\"\"\n",
    "    print(\"---CALL AGENT---\")\n",
    "    question = state[\"question\"]\n",
    "    messages = state.get(\"messages\", [])\n",
    "    generation_id = state.get(\"generation_id\", 0)\n",
    "    docs_grade_id = state.get(\"docs_grade_id\", 0)\n",
    "\n",
    "    model = ChatOpenAI(model='llama3.1', api_key='ollama', base_url='http://localhost:11434/v1/', temperature=0)\n",
    "    model = model.bind_tools(tools)\n",
    "    response = model.invoke(question)\n",
    "    messages.append(response)\n",
    "\n",
    "    tool_name = response.additional_kwargs.get('tool_calls')[0]['function']['name']\n",
    "    print(f'called ----> TOOL NAME ---> {tool_name}')\n",
    "    return {\n",
    "        \"generation\": response,\n",
    "        \"messages\": messages,\n",
    "        \"tool_name\": tool_name,\n",
    "        \"tool_calls\": state.get(\"tool_calls\", []),\n",
    "        \"question\": state[\"question\"],\n",
    "        \"generation_id\": generation_id,\n",
    "        \"docs_grade_id\": docs_grade_id,\n",
    "        \"documents\": state.get(\"documents\", []),\n",
    "        \"chat_history\": state.get(\"chat_history\", [])\n",
    "    }"
   ],
   "metadata": {
    "collapsed": false,
    "ExecuteTime": {
     "start_time": "2024-10-04T13:19:58.246587Z",
     "end_time": "2024-10-04T13:19:58.252601Z"
    }
   }
  },
  {
   "cell_type": "code",
   "execution_count": 52,
   "outputs": [],
   "source": [
    "# Workflow\n",
    "workflow = StateGraph(GraphState)\n",
    "\n",
    "# Define the nodes\n",
    "workflow.add_node(\"agent\", agent)\n",
    "tool_node = ToolNode(tools)\n",
    "workflow.add_node(\"action\", tool_node)\n",
    "workflow.add_node(\"grade_documents\", grade_documents)\n",
    "workflow.add_node(\"generate\", generate)\n",
    "workflow.add_node(\"transform_query\", transform_query)\n",
    "\n",
    "# Build graph\n",
    "workflow.add_edge(START, \"agent\")\n",
    "workflow.add_conditional_edges(\n",
    "    \"agent\",\n",
    "    tools_condition,\n",
    "    {\n",
    "        \"tools\": \"action\"\n",
    "    },\n",
    ")\n",
    "workflow.add_edge(\"action\", \"grade_documents\")\n",
    "workflow.add_conditional_edges(\n",
    "    \"grade_documents\",\n",
    "    decide_to_generate,\n",
    "    {\n",
    "        \"transform_query\": \"transform_query\",\n",
    "        \"generate\": \"generate\",\n",
    "        \"limit\": END\n",
    "    },\n",
    ")\n",
    "workflow.add_edge(\"transform_query\", \"agent\")\n",
    "workflow.add_conditional_edges(\n",
    "    \"generate\",\n",
    "    grade_generation_v_documents_and_question,\n",
    "    {\n",
    "        \"not supported\": \"generate\",\n",
    "        \"failed\": END,\n",
    "        \"limit\": END,\n",
    "        \"useful\": END,\n",
    "        \"not useful\": \"transform_query\",\n",
    "    },\n",
    ")\n",
    "\n",
    "# Compile\n",
    "app = workflow.compile()"
   ],
   "metadata": {
    "collapsed": false,
    "ExecuteTime": {
     "start_time": "2024-10-04T13:19:59.581488Z",
     "end_time": "2024-10-04T13:19:59.585796Z"
    }
   }
  },
  {
   "cell_type": "code",
   "execution_count": 26,
   "outputs": [
    {
     "name": "stdout",
     "output_type": "stream",
     "text": [
      "---CALL AGENT---\n",
      "called ----> TOOL NAME ---> retriever\n",
      "\"Node 'agent':\"\n",
      "'\\n---\\n'\n",
      "\"Node 'action':\"\n",
      "'\\n---\\n'\n",
      "---CHECK DOCUMENT RELEVANCE TO QUESTION---\n",
      "---GRADE: DOCUMENT RELEVANT---\n",
      "---GRADE: DOCUMENT RELEVANT---\n",
      "---GRADE: DOCUMENT NOT RELEVANT---\n",
      "---GRADE: DOCUMENT NOT RELEVANT---\n",
      "---ASSESS GRADED DOCUMENTS---\n",
      "---DECISION: GENERATE---\n",
      "\"Node 'grade_documents':\"\n",
      "'\\n---\\n'\n",
      "---GENERATE---\n",
      "---> generation_id:1\n",
      "---CHECK HALLUCINATIONS---\n",
      "---DECISION: GENERATION IS GROUNDED IN DOCUMENTS---\n",
      "---GRADE GENERATION vs QUESTION---\n",
      "score: binary_score='yes'\n",
      "---DECISION: GENERATION ADDRESSES QUESTION---\n",
      "\"Node 'generate':\"\n",
      "'\\n---\\n'\n",
      "('Computer Vision tasks include Image Classification, Object Detection, Image '\n",
      " 'Segmentation, Face and Person Recognition, Edge Detection, Image '\n",
      " 'Restoration, Feature Matching, Scene Reconstruction, and Video Motion '\n",
      " 'Analysis. These tasks help computers understand and analyze visual data from '\n",
      " 'digital images, videos, and similar visual inputs. They play a critical role '\n",
      " 'in areas such as image recognition and object detection.')\n"
     ]
    }
   ],
   "source": [
    "# Run\n",
    "inputs = {\n",
    "    \"question\": \"What are Computer Vision tasks?\",\n",
    "    # \"question\": \"Who was the first man on the moon?\",\n",
    "}\n",
    "for output in app.stream(inputs):\n",
    "    for key, value in output.items():\n",
    "        # Node\n",
    "        pprint(f\"Node '{key}':\")\n",
    "        # Optional: print full state at each node\n",
    "        # pprint.pprint(value[\"keys\"], indent=2, width=80, depth=None)\n",
    "    pprint(\"\\n---\\n\")\n",
    "\n",
    "# Final generation\n",
    "if len(value[\"documents\"])!=0:\n",
    "    pprint(value[\"generation\"])\n",
    "else:\n",
    "    pprint(value)"
   ],
   "metadata": {
    "collapsed": false,
    "ExecuteTime": {
     "start_time": "2024-10-04T12:03:32.939599Z",
     "end_time": "2024-10-04T12:04:49.588180Z"
    }
   }
  },
  {
   "cell_type": "code",
   "execution_count": 27,
   "outputs": [
    {
     "name": "stdout",
     "output_type": "stream",
     "text": [
      "[[{'ai_answer': 'Computer Vision tasks include Image Classification, Object '\n",
      "                'Detection, Image Segmentation, Face and Person Recognition, '\n",
      "                'Edge Detection, Image Restoration, Feature Matching, Scene '\n",
      "                'Reconstruction, and Video Motion Analysis. These tasks help '\n",
      "                'computers understand and analyze visual data from digital '\n",
      "                'images, videos, and similar visual inputs. They play a '\n",
      "                'critical role in areas such as image recognition and object '\n",
      "                'detection.',\n",
      "   'generation_id': 1,\n",
      "   'user_question': 'What are Computer Vision tasks?'}]]\n"
     ]
    }
   ],
   "source": [
    "pprint(value['chat_history'])"
   ],
   "metadata": {
    "collapsed": false,
    "ExecuteTime": {
     "start_time": "2024-10-04T12:04:55.105930Z",
     "end_time": "2024-10-04T12:04:55.110448Z"
    }
   }
  },
  {
   "cell_type": "code",
   "execution_count": 32,
   "outputs": [
    {
     "name": "stdout",
     "output_type": "stream",
     "text": [
      "---CALL AGENT---\n",
      "called ----> TOOL NAME ---> web_search\n",
      "\"Node 'agent':\"\n",
      "'\\n---\\n'\n",
      "\"Node 'action':\"\n",
      "'\\n---\\n'\n",
      "---CHECK DOCUMENT RELEVANCE TO QUESTION---\n",
      "---GRADE: DOCUMENT RELEVANT---\n",
      "---GRADE: DOCUMENT RELEVANT---\n",
      "---GRADE: DOCUMENT RELEVANT---\n",
      "---GRADE: DOCUMENT RELEVANT---\n",
      "---GRADE: DOCUMENT NOT RELEVANT---\n",
      "---ASSESS GRADED DOCUMENTS---\n",
      "---DECISION: GENERATE---\n",
      "\"Node 'grade_documents':\"\n",
      "'\\n---\\n'\n",
      "---GENERATE---\n",
      "---> generation_id:1\n",
      "---CHECK HALLUCINATIONS---\n",
      "---DECISION: GENERATION IS GROUNDED IN DOCUMENTS---\n",
      "---GRADE GENERATION vs QUESTION---\n",
      "score: binary_score='yes'\n",
      "---DECISION: GENERATION ADDRESSES QUESTION---\n",
      "\"Node 'generate':\"\n",
      "'\\n---\\n'\n",
      "('Gen Z is the most racially and ethnically diverse generation of Americans, '\n",
      " 'with non-Hispanic White Gen Zers holding a slim majority at 52%. They grew '\n",
      " 'up in the era of smartphones, climate change awareness, and pandemic '\n",
      " 'lockdowns, shaping their behaviors and values. This generation is '\n",
      " 'characterized by being more pragmatic, cautious, and digitally savvy than '\n",
      " 'previous generations.')\n"
     ]
    }
   ],
   "source": [
    "# Run\n",
    "inputs = {\n",
    "    \"question\": \"What is the generation Z ?\",\n",
    "}\n",
    "for output in app.stream(inputs):\n",
    "    for key, value in output.items():\n",
    "        # Node\n",
    "        pprint(f\"Node '{key}':\")\n",
    "    pprint(\"\\n---\\n\")\n",
    "\n",
    "# Final generation\n",
    "if len(value[\"documents\"])!=0:\n",
    "    pprint(value[\"generation\"])\n",
    "else:\n",
    "    pprint(value)"
   ],
   "metadata": {
    "collapsed": false,
    "ExecuteTime": {
     "start_time": "2024-10-04T12:08:08.859603Z",
     "end_time": "2024-10-04T12:09:43.996917Z"
    }
   }
  },
  {
   "cell_type": "code",
   "execution_count": 33,
   "outputs": [
    {
     "name": "stdout",
     "output_type": "stream",
     "text": [
      "[[{'ai_answer': 'Gen Z is the most racially and ethnically diverse generation '\n",
      "                'of Americans, with non-Hispanic White Gen Zers holding a slim '\n",
      "                'majority at 52%. They grew up in the era of smartphones, '\n",
      "                'climate change awareness, and pandemic lockdowns, shaping '\n",
      "                'their behaviors and values. This generation is characterized '\n",
      "                'by being more pragmatic, cautious, and digitally savvy than '\n",
      "                'previous generations.',\n",
      "   'generation_id': 1,\n",
      "   'user_question': 'What is the generation Z ?'}]]\n"
     ]
    }
   ],
   "source": [
    "pprint(value['chat_history'])"
   ],
   "metadata": {
    "collapsed": false,
    "ExecuteTime": {
     "start_time": "2024-10-04T12:10:14.310520Z",
     "end_time": "2024-10-04T12:10:14.317521Z"
    }
   }
  },
  {
   "cell_type": "code",
   "execution_count": 53,
   "outputs": [
    {
     "name": "stdout",
     "output_type": "stream",
     "text": [
      "---CALL AGENT---\n",
      "called ----> TOOL NAME ---> web_search\n",
      "\"Node 'agent':\"\n",
      "'\\n---\\n'\n",
      "\"Node 'action':\"\n",
      "'\\n---\\n'\n",
      "---CHECK DOCUMENT RELEVANCE TO QUESTION---\n",
      "---> grade_documents iteration: 1\n",
      "---GRADE: DOCUMENT NOT RELEVANT---\n",
      "---GRADE: DOCUMENT NOT RELEVANT---\n",
      "---GRADE: DOCUMENT NOT RELEVANT---\n",
      "---GRADE: DOCUMENT NOT RELEVANT---\n",
      "---GRADE: DOCUMENT NOT RELEVANT---\n",
      "---ASSESS GRADED DOCUMENTS---\n",
      "---DECISION: ALL DOCUMENTS ARE NOT RELEVANT TO QUESTION, TRANSFORM QUERY---\n",
      "\"Node 'grade_documents':\"\n",
      "'\\n---\\n'\n",
      "---TRANSFORM QUERY---\n",
      "question: What is the slknskd?\n",
      "\n",
      "\n",
      "transformed question: What are the keywords or concepts related to \"slknskd\"?\n",
      "\"Node 'transform_query':\"\n",
      "'\\n---\\n'\n",
      "---CALL AGENT---\n",
      "called ----> TOOL NAME ---> web_search\n",
      "\"Node 'agent':\"\n",
      "'\\n---\\n'\n",
      "\"Node 'action':\"\n",
      "'\\n---\\n'\n",
      "---CHECK DOCUMENT RELEVANCE TO QUESTION---\n",
      "---> grade_documents iteration: 2\n",
      "---GRADE: DOCUMENT NOT RELEVANT---\n",
      "---GRADE: DOCUMENT NOT RELEVANT---\n",
      "---GRADE: DOCUMENT NOT RELEVANT---\n",
      "---GRADE: DOCUMENT NOT RELEVANT---\n",
      "---GRADE: DOCUMENT NOT RELEVANT---\n",
      "---ASSESS GRADED DOCUMENTS---\n",
      "---DECISION: ALL DOCUMENTS ARE NOT RELEVANT TO QUESTION, TRANSFORM QUERY---\n",
      "\"Node 'grade_documents':\"\n",
      "'\\n---\\n'\n",
      "---TRANSFORM QUERY---\n",
      "question: What are the keywords or concepts related to \"slknskd\"?\n",
      "\n",
      "\n",
      "transformed question: What entities, phrases, or topics are associated with \"slknskd\"?\n",
      "\"Node 'transform_query':\"\n",
      "'\\n---\\n'\n",
      "---CALL AGENT---\n",
      "called ----> TOOL NAME ---> web_search\n",
      "\"Node 'agent':\"\n",
      "'\\n---\\n'\n",
      "\"Node 'action':\"\n",
      "'\\n---\\n'\n",
      "---CHECK DOCUMENT RELEVANCE TO QUESTION---\n",
      "---> grade_documents iteration: 3\n",
      "---GRADE: DOCUMENT NOT RELEVANT---\n",
      "---GRADE: DOCUMENT NOT RELEVANT---\n",
      "---GRADE: DOCUMENT NOT RELEVANT---\n",
      "---GRADE: DOCUMENT NOT RELEVANT---\n",
      "---GRADE: DOCUMENT NOT RELEVANT---\n",
      "---ASSESS GRADED DOCUMENTS---\n",
      "---DECISION: ALL DOCUMENTS ARE NOT RELEVANT TO QUESTION, TRANSFORM QUERY---\n",
      "\"Node 'grade_documents':\"\n",
      "'\\n---\\n'\n",
      "---TRANSFORM QUERY---\n",
      "question: What entities, phrases, or topics are associated with \"slknskd\"?\n",
      "\n",
      "\n",
      "transformed question: What entities, phrases, or topics are related to the string \"slknskd\"?\n",
      "\"Node 'transform_query':\"\n",
      "'\\n---\\n'\n",
      "---CALL AGENT---\n",
      "called ----> TOOL NAME ---> web_search\n",
      "\"Node 'agent':\"\n",
      "'\\n---\\n'\n",
      "\"Node 'action':\"\n",
      "'\\n---\\n'\n",
      "---CHECK DOCUMENT RELEVANCE TO QUESTION---\n",
      "---> grade_documents iteration: 4\n",
      "---GRADE: DOCUMENT NOT RELEVANT---\n",
      "---GRADE: DOCUMENT NOT RELEVANT---\n",
      "---GRADE: DOCUMENT NOT RELEVANT---\n",
      "---GRADE: DOCUMENT NOT RELEVANT---\n",
      "---GRADE: DOCUMENT NOT RELEVANT---\n",
      "---ASSESS GRADED DOCUMENTS---\n",
      "~~~~~The generation limit has been reached~~~~~\n",
      "\"Node 'grade_documents':\"\n",
      "'\\n---\\n'\n",
      "{'docs_grade_id': 4,\n",
      " 'documents': [],\n",
      " 'question': 'What entities, phrases, or topics are related to the string '\n",
      "             '\"slknskd\"?'}\n"
     ]
    }
   ],
   "source": [
    "# Run\n",
    "inputs = {\n",
    "    \"question\": \"What is the slknskd?\",\n",
    "}\n",
    "\n",
    "for output in app.stream(inputs):\n",
    "    for key, value in output.items():\n",
    "        # Node\n",
    "        pprint(f\"Node '{key}':\")\n",
    "    pprint(\"\\n---\\n\")\n",
    "\n",
    "# Final generation\n",
    "if len(value[\"documents\"])!=0:\n",
    "    pprint(value[\"generation\"])\n",
    "else:\n",
    "    pprint(value)"
   ],
   "metadata": {
    "collapsed": false,
    "ExecuteTime": {
     "start_time": "2024-10-04T13:20:05.153874Z",
     "end_time": "2024-10-04T13:22:30.033059Z"
    }
   }
  },
  {
   "cell_type": "code",
   "execution_count": 54,
   "outputs": [
    {
     "data": {
      "image/jpeg": "[encoded data removed]",
      "text/plain": "<IPython.core.display.Image object>"
     },
     "metadata": {},
     "output_type": "display_data"
    }
   ],
   "source": [
    "from IPython.display import Image, display\n",
    "\n",
    "try:\n",
    "    display(Image(app.get_graph(xray=True).draw_mermaid_png()))\n",
    "except Exception:\n",
    "    pass"
   ],
   "metadata": {
    "collapsed": false,
    "ExecuteTime": {
     "start_time": "2024-10-04T13:33:49.759475Z",
     "end_time": "2024-10-04T13:33:49.759475Z"
    }
   }
  }
 ],
 "metadata": {
  "kernelspec": {
   "display_name": "Python 3",
   "language": "python",
   "name": "python3"
  },
  "language_info": {
   "codemirror_mode": {
    "name": "ipython",
    "version": 2
   },
   "file_extension": ".py",
   "mimetype": "text/x-python",
   "name": "python",
   "nbconvert_exporter": "python",
   "pygments_lexer": "ipython2",
   "version": "2.7.6"
  }
 },
 "nbformat": 4,
 "nbformat_minor": 0
}
